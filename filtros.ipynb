{
 "cells": [
  {
   "cell_type": "markdown",
   "metadata": {},
   "source": [
    "Verificação Duplicatas"
   ]
  },
  {
   "cell_type": "code",
   "execution_count": null,
   "metadata": {},
   "outputs": [],
   "source": [
    "import pandas as pd\n",
    "\n",
    "ARQUIVO_EXCEL = \"links_chaves_na_mao_motos.xlsx\"\n",
    "ARQUIVO_SAIDA = \"links_sem_duplicatas.xlsx\"\n",
    "\n",
    "def remover_duplicatas(arquivo_excel):\n",
    "    df = pd.read_excel(arquivo_excel)\n",
    "\n",
    "    if \"Link\" not in df.columns:\n",
    "        print(\"A coluna 'Link' não foi encontrada no arquivo.\")\n",
    "        print(\"Colunas disponíveis:\", df.columns)\n",
    "        return\n",
    "\n",
    "    antes = len(df)\n",
    "    df_sem_duplicatas = df.drop_duplicates(subset=[\"Link\"], keep=\"first\")\n",
    "    depois = len(df_sem_duplicatas)\n",
    "\n",
    "    if antes == depois:\n",
    "        print(\"✅ Nenhuma duplicata encontrada. O arquivo já está limpo.\")\n",
    "    else:\n",
    "        print(f\"⚠️ Removidas {antes - depois} duplicatas.\")\n",
    "        df_sem_duplicatas.to_excel(ARQUIVO_SAIDA, index=False)\n",
    "        print(f\"✅ Arquivo salvo como '{ARQUIVO_SAIDA}'.\")\n",
    "\n",
    "remover_duplicatas(ARQUIVO_EXCEL)\n"
   ]
  },
  {
   "cell_type": "markdown",
   "metadata": {},
   "source": [
    "Combinar varios arquivos"
   ]
  },
  {
   "cell_type": "code",
   "execution_count": null,
   "metadata": {},
   "outputs": [],
   "source": [
    "import pandas as pd\n",
    "\n",
    "df1 = pd.read_excel(\"ChavesnaMão.xlsx\")\n",
    "df2 = pd.read_excel(\"dados_carros.xlsx\")\n",
    "df3 = pd.read_excel(\"dados_anunciantes.xlsx\")\n",
    "\n",
    "coluna1 = df3[\"Link\"]\n",
    "coluna2 = df3[\"Anunciantes\"]\n",
    "\n",
    "df_coluna = df3[~df3['Coluna1'].isin(df3['Coluna2'])] \n",
    "\n",
    "df3[\"Link\"] = df3[\"Link\"].drop_duplicates()\n",
    "df3[\"Anunciantes\"] = df3[\"Anunciantes\"].drop_duplicates()\n",
    "\n",
    "df_combined = pd.concat([df1, df2], ignore_index=True)\n",
    "\n",
    "df_unique = df_combined.drop_duplicates(subset=[\"Modelo\", \"Preço\", \"Kilometragem\", \"Link\", \"Versão\"])\n",
    "\n",
    "df_unique.to_excel(\"dados_sem_duplicatas.xlsx\", index=False)\n",
    "\n",
    "df_coluna.to_excel('resultado_sem_duplicatas.xlsx', index=False)\n",
    "\n",
    "print(\"Arquivo salvo como 'resultado_sem_duplicatas.xlsx'\")\n",
    "\n",
    "print(\"Arquivo salvo como 'dados_sem_duplicatas_.xlsx'!\")\n"
   ]
  },
  {
   "cell_type": "markdown",
   "metadata": {},
   "source": [
    "COMBINAR ARQUIVOS"
   ]
  },
  {
   "cell_type": "code",
   "execution_count": null,
   "metadata": {},
   "outputs": [],
   "source": [
    "import pandas as pd\n",
    "\n",
    "df1 = pd.read_excel(\"ChavesnaMão.xlsx\")\n",
    "df2 = pd.read_excel(\"dados_carros.xlsx\")\n",
    "\n",
    "df3 = pd.concat([df1, df2], ignore_index=True)  \n",
    "df3.to_excel(\"dados_combinados.xlsx\", index=False)"
   ]
  },
  {
   "cell_type": "markdown",
   "metadata": {},
   "source": [
    "SEPARA INFORMAÇÕES"
   ]
  },
  {
   "cell_type": "code",
   "execution_count": null,
   "metadata": {},
   "outputs": [],
   "source": [
    "import pandas as pd\n",
    "\n",
    "def detectar_combustivel(descricao):\n",
    "    descricao = str(descricao).lower()\n",
    "    if \"flex\" in descricao:\n",
    "        return \"Flex\"\n",
    "    elif \"gasolina\" in descricao:\n",
    "        return \"Gasolina\"\n",
    "    elif \"diesel\" in descricao:\n",
    "        return \"Diesel\"\n",
    "    elif \"híbrido\" in descricao:\n",
    "        return \"Híbrido\"\n",
    "    elif \"elétrico\" in descricao:\n",
    "        return \"Elétrico\"\n",
    "    elif \"álcool\" in descricao:\n",
    "        return \"Álcool\"\n",
    "    else:\n",
    "        return \"Indefinido\"\n",
    "\n",
    "def processar_planilha(arquivo_entrada, arquivo_saida):\n",
    "    df = pd.read_excel(arquivo_entrada)\n",
    "    \n",
    "    # Supondo que a coluna de descrição do veículo seja \"Descrição\"\n",
    "    df[\"Combustível\"] = df[\"Versão\"].apply(detectar_combustivel)\n",
    "    \n",
    "    df.to_excel(arquivo_saida, index=False)\n",
    "    print(f\"Processamento concluído. Arquivo salvo como {arquivo_saida}\")\n",
    "\n",
    "# Exemplo de uso\n",
    "processar_planilha(\"Versão.xlsx\", \"veiculos_processados.xlsx\")"
   ]
  },
  {
   "cell_type": "markdown",
   "metadata": {},
   "source": [
    "Pegar informações corretas"
   ]
  },
  {
   "cell_type": "code",
   "execution_count": null,
   "metadata": {},
   "outputs": [],
   "source": [
    "import pandas as pd\n",
    "import re\n",
    "\n",
    "file_path = \"dados_chaves_na_mao.xlsx\"\n",
    "\n",
    "df = pd.read_excel(file_path)\n",
    "\n",
    "coluna_fipe = \"Fipe\"\n",
    "coluna_modelo = \"Modelo\"\n",
    "coluna_anunciante = \"Anunciante\"\n",
    "\n",
    "def extrair_codigo(texto):\n",
    "    match = re.search(r\"(\\d{6}-\\d)\", str(texto))\n",
    "    return match.group(1) if match else None\n",
    "\n",
    "def extrair_preco(texto):\n",
    "    match = re.search(r\"(R\\$[\\s]*[\\d,.]+)\", str(texto))\n",
    "    return match.group(1) if match else None\n",
    "\n",
    "def extrair_marca(texto):\n",
    "    return str(texto).split()[0] if pd.notna(texto) else None \n",
    "\n",
    "def extrair_modelo(texto):\n",
    "    partes = str(texto).split()\n",
    "    return \" \".join(partes[1:]) if len(partes) > 1 else None\n",
    "\n",
    "def ajustar_tipo_anunciante(texto):\n",
    "    texto = str(texto).lower()\n",
    "\n",
    "    texto_limpo = re.sub(r\"\\(\\d{2}\\)\\s?\\d{4,5}-\\d{4}|ver|whatsapp|anunciante|desde.*?chaves na mão\", \"\", texto, flags=re.IGNORECASE).strip()\n",
    "\n",
    "    if 'multimarcas' in texto_limpo:\n",
    "        return 'Concessionária'\n",
    "    elif 'automoveis' in texto_limpo or 'veiculos' in texto_limpo:\n",
    "        return 'Loja'\n",
    "    \n",
    "    return texto_limpo\n",
    "\n",
    "df[\"Anunciante\"] = df[\"Anunciante\"].apply(ajustar_tipo_anunciante)\n",
    "\n",
    "df[\"Marca\"] = df[coluna_modelo].apply(extrair_marca)\n",
    "df[\"Modelo\"] = df[coluna_modelo].apply(extrair_modelo)\n",
    "df[\"Código\"] = df[coluna_fipe].apply(extrair_codigo)\n",
    "df[\"Preço Fipe\"] = df[coluna_fipe].apply(extrair_preco)\n",
    "df[\"Anunciante\"] = df[coluna_anunciante].apply(ajustar_tipo_anunciante)\n",
    "\n",
    "output_path = \"chaves_na_mao_motos.xlsx\"\n",
    "df.to_excel(output_path, index=False)\n",
    "\n",
    "print(f\"Processo concluído! Resultado salvo em {output_path}\")\n"
   ]
  },
  {
   "cell_type": "markdown",
   "metadata": {},
   "source": [
    "Tranformar pkl em excel"
   ]
  },
  {
   "cell_type": "code",
   "execution_count": null,
   "metadata": {},
   "outputs": [],
   "source": [
    "import pandas as pd\n",
    "import pickle\n",
    "\n",
    "ARQUIVO_PICKLE = \"dados_progresso.pkl\"\n",
    "ARQUIVO_EXCEL = \"dados_chaves_na_mao.xlsx\"\n",
    "\n",
    "# Carregar os dados do arquivo pickle\n",
    "with open(ARQUIVO_PICKLE, \"rb\") as f:\n",
    "    dados = pickle.load(f)\n",
    "\n",
    "# Converter os dados em um DataFrame e salvar como Excel\n",
    "df = pd.DataFrame(dados)\n",
    "df.to_excel(ARQUIVO_EXCEL, index=False)\n",
    "\n",
    "print(f\"✅ Dados exportados para '{ARQUIVO_EXCEL}'.\")\n"
   ]
  },
  {
   "cell_type": "code",
   "execution_count": 6,
   "metadata": {},
   "outputs": [
    {
     "name": "stdout",
     "output_type": "stream",
     "text": [
      "Arquivo Excel 'links_sem_duplicatas_motos.xlsx' convertido para PKL com sucesso!\n",
      "Arquivo salvo como 'links_sem_duplicatas_motos.pkl'.\n"
     ]
    }
   ],
   "source": [
    "import pandas as pd\n",
    "\n",
    "# Nome do arquivo Excel de entrada\n",
    "ARQUIVO_EXCEL = \"links_sem_duplicatas_motos.xlsx\"  # Substitua pelo nome do seu arquivo Excel\n",
    "\n",
    "# Nome do arquivo PKL de saída\n",
    "ARQUIVO_PKL = \"links_sem_duplicatas_motos.pkl\"  # Substitua pelo nome do arquivo PKL desejado\n",
    "\n",
    "def excel_para_pkl(excel_file, pkl_file):\n",
    "    try:\n",
    "        # Carrega o arquivo Excel\n",
    "        df = pd.read_excel(excel_file)\n",
    "\n",
    "        # Converte o DataFrame para Pickle\n",
    "        df.to_pickle(pkl_file)\n",
    "        \n",
    "        print(f\"Arquivo Excel '{excel_file}' convertido para PKL com sucesso!\")\n",
    "        print(f\"Arquivo salvo como '{pkl_file}'.\")\n",
    "    \n",
    "    except Exception as e:\n",
    "        print(f\"Erro ao converter Excel para PKL: {e}\")\n",
    "        \n",
    "excel_para_pkl(ARQUIVO_EXCEL, ARQUIVO_PKL)"
   ]
  }
 ],
 "metadata": {
  "kernelspec": {
   "display_name": "base",
   "language": "python",
   "name": "python3"
  },
  "language_info": {
   "codemirror_mode": {
    "name": "ipython",
    "version": 3
   },
   "file_extension": ".py",
   "mimetype": "text/x-python",
   "name": "python",
   "nbconvert_exporter": "python",
   "pygments_lexer": "ipython3",
   "version": "3.12.7"
  }
 },
 "nbformat": 4,
 "nbformat_minor": 2
}
