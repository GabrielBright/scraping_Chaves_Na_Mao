{
 "cells": [
  {
   "cell_type": "markdown",
   "metadata": {},
   "source": [
    "Separar Informações Motos"
   ]
  },
  {
   "cell_type": "code",
   "execution_count": 3,
   "metadata": {},
   "outputs": [
    {
     "name": "stdout",
     "output_type": "stream",
     "text": [
      "Processo concluído! Resultado salvo em chaves_na_mao_motos.xlsx\n"
     ]
    }
   ],
   "source": [
    "import pandas as pd\n",
    "import re\n",
    "\n",
    "file_path = \"dados_chaves_na_mao.xlsx\"\n",
    "\n",
    "df = pd.read_excel(file_path)\n",
    "\n",
    "coluna_fipe = \"Fipe\"\n",
    "coluna_modelo = \"Modelo\"\n",
    "coluna_anunciante = \"Anunciante\" \n",
    "\n",
    "df = df.rename(columns={coluna_anunciante: \"AD TYPE\"})\n",
    "\n",
    "marcas = {\"chevrolet\", \"fiat\", \"ford\", \"honda\", \"hyundai\", \"mercedes\", \"nissan\", \"renault\", \"toyota\", \"volkswagen\", \"yamaha\"}\n",
    "marcas_motos = {\"honda\", \"suzuki\", \"yamaha\", \"kawasaki\", \"ducati\", \"harley-davidson\", \"triumph\"} \n",
    "\n",
    "def extrair_codigo(texto):\n",
    "    match = re.search(r\"(\\d{6}-\\d)\", str(texto))\n",
    "    return match.group(1) if match else None\n",
    "\n",
    "def extrair_preco(texto):\n",
    "    match = re.search(r\"R\\$[\\s]*([\\d,.]+)\", str(texto))\n",
    "    if match:\n",
    "        preco = match.group(1).replace(\".\", \"\").replace(\",\", \".\")\n",
    "        return int(float(preco))\n",
    "    return None\n",
    "\n",
    "def extrair_marca(texto):\n",
    "    return str(texto).split()[0] if pd.notna(texto) else None \n",
    "\n",
    "def extrair_modelo(texto):\n",
    "    partes = str(texto).split()\n",
    "    return \" \".join(partes[1:]) if len(partes) > 1 else None\n",
    "\n",
    "def ajustar_tipo_anunciante(texto):\n",
    "    texto = str(texto).lower()\n",
    "    texto_limpo = re.sub(r\"\\(\\d{2}\\)\\s?\\d{4,5}-\\d{4}|ver|whatsapp|anunciante|desde.*?chaves na mão\", \"\", texto, flags=re.IGNORECASE).strip()\n",
    "    if any(marca in texto_limpo for marca in marcas):\n",
    "        return 'Concessionária'\n",
    "    else:\n",
    "        return 'Loja'\n",
    "\n",
    "def determinar_tipo_veiculo(marca):\n",
    "    return 'MOTORCYCLE'\n",
    "\n",
    "df[\"AD TYPE\"] = df[\"AD TYPE\"].apply(ajustar_tipo_anunciante)\n",
    "df[\"MARCA\"] = df[coluna_modelo].apply(extrair_marca)\n",
    "df[\"Modelo\"] = df[coluna_modelo].apply(extrair_modelo)\n",
    "df[\"Preço\"] = df[\"Preço\"].apply(extrair_preco)\n",
    "df[\"TIPO DE VEICULO\"] = df[\"MARCA\"].apply(determinar_tipo_veiculo)\n",
    "\n",
    "output_path = \"chaves_na_mao_motos.xlsx\"\n",
    "df.to_excel(output_path, index=False)\n",
    "\n",
    "print(f\"Processo concluído! Resultado salvo em {output_path}\")"
   ]
  },
  {
   "cell_type": "markdown",
   "metadata": {},
   "source": [
    "Separar Informações Carros"
   ]
  },
  {
   "cell_type": "code",
   "execution_count": null,
   "metadata": {},
   "outputs": [],
   "source": [
    "import pandas as pd\n",
    "import re\n",
    "\n",
    "file_path = \"dados_chaves_na_mao.xlsx\"\n",
    "\n",
    "df = pd.read_excel(file_path)\n",
    "\n",
    "coluna_fipe = \"Fipe\"\n",
    "coluna_modelo = \"Modelo\"\n",
    "coluna_anunciante = \"Anunciante\" \n",
    "\n",
    "df = df.rename(columns={coluna_anunciante: \"AD TYPE\"})\n",
    "\n",
    "marcas = {\"chevrolet\", \"fiat\", \"ford\", \"honda\", \"hyundai\", \"mercedes\", \"nissan\", \"renault\", \"toyota\", \"volkswagen\", \"yamaha\"}\n",
    "marcas_motos = {\"honda\", \"suzuki\", \"yamaha\", \"kawasaki\", \"ducati\", \"harley-davidson\", \"triumph\"} \n",
    "\n",
    "def extrair_codigo(texto):\n",
    "    match = re.search(r\"(\\d{6}-\\d)\", str(texto))\n",
    "    return match.group(1) if match else None\n",
    "\n",
    "def extrair_preco(texto):\n",
    "    match = re.search(r\"R\\$[\\s]*([\\d,.]+)\", str(texto))\n",
    "    if match:\n",
    "        preco = match.group(1).replace(\".\", \"\").replace(\",\", \".\")\n",
    "        return int(float(preco))\n",
    "    return None\n",
    "\n",
    "def extrair_marca(texto):\n",
    "    return str(texto).split()[0] if pd.notna(texto) else None \n",
    "\n",
    "def extrair_modelo(texto):\n",
    "    partes = str(texto).split()\n",
    "    return \" \".join(partes[1:]) if len(partes) > 1 else None\n",
    "\n",
    "def ajustar_tipo_anunciante(texto):\n",
    "    texto = str(texto).lower()\n",
    "    texto_limpo = re.sub(r\"\\(\\d{2}\\)\\s?\\d{4,5}-\\d{4}|ver|whatsapp|anunciante|desde.*?chaves na mão\", \"\", texto, flags=re.IGNORECASE).strip()\n",
    "    if any(marca in texto_limpo for marca in marcas):\n",
    "        return 'Concessionária'\n",
    "    else:\n",
    "        return 'Loja'\n",
    "\n",
    "def determinar_tipo_veiculo(marca):\n",
    "    return 'CAR'\n",
    "\n",
    "df[\"AD TYPE\"] = df[\"AD TYPE\"].apply(ajustar_tipo_anunciante)\n",
    "df[\"MARCA\"] = df[coluna_modelo].apply(extrair_marca)\n",
    "df[\"Modelo\"] = df[coluna_modelo].apply(extrair_modelo)\n",
    "df[\"Código\"] = df[coluna_fipe].apply(extrair_codigo)\n",
    "df[\"Preço Fipe\"] = df[coluna_fipe].apply(extrair_preco)\n",
    "df[\"Preço\"] = df[\"Preço\"].apply(extrair_preco)\n",
    "df[\"TIPO DE VEICULO\"] = df[\"MARCA\"].apply(determinar_tipo_veiculo)\n",
    "\n",
    "output_path = \"chaves_na_mao_carros.xlsx\"\n",
    "df.to_excel(output_path, index=False)\n",
    "\n",
    "print(f\"Processo concluído! Resultado salvo em {output_path}\")"
   ]
  },
  {
   "cell_type": "markdown",
   "metadata": {},
   "source": [
    "Dados Carros e Motos"
   ]
  },
  {
   "cell_type": "code",
   "execution_count": null,
   "metadata": {},
   "outputs": [],
   "source": [
    "import pandas as pd\n",
    "\n",
    "file_path_1 = \"chaves_na_mao_motos.xlsx\"\n",
    "file_path_2 = \"Chaves_na_mao_carros.xlsx\"  \n",
    "\n",
    "df1 = pd.read_excel(file_path_1)\n",
    "df2 = pd.read_excel(file_path_2)\n",
    "\n",
    "print(\"Colunas do primeiro arquivo:\", df1.columns.tolist())\n",
    "print(\"Colunas do segundo arquivo:\", df2.columns.tolist())\n",
    "\n",
    "df = pd.concat([df1, df2], ignore_index=True)\n",
    "\n",
    "output_path = \"chaves_na_mao_teste.xlsx\"\n",
    "df.to_excel(output_path, index=False)\n",
    "\n",
    "print(f\"Processo concluído! Resultado salvo em {output_path}\")"
   ]
  }
 ],
 "metadata": {
  "kernelspec": {
   "display_name": "base",
   "language": "python",
   "name": "python3"
  },
  "language_info": {
   "codemirror_mode": {
    "name": "ipython",
    "version": 3
   },
   "file_extension": ".py",
   "mimetype": "text/x-python",
   "name": "python",
   "nbconvert_exporter": "python",
   "pygments_lexer": "ipython3",
   "version": "3.12.7"
  }
 },
 "nbformat": 4,
 "nbformat_minor": 2
}
